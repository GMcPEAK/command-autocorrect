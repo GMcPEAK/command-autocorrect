{
 "cells": [
  {
   "cell_type": "code",
   "execution_count": 1,
   "id": "3f499c40",
   "metadata": {},
   "outputs": [],
   "source": [
    "import random\n",
    "import pandas as pd\n",
    "from tqdm import tqdm\n",
    "from joblib import Parallel, delayed"
   ]
  },
  {
   "cell_type": "code",
   "execution_count": 2,
   "id": "2963719a",
   "metadata": {},
   "outputs": [
    {
     "name": "stdout",
     "output_type": "stream",
     "text": [
      "              command                                            options  \\\n",
      "0            0desktop                                                NaN   \n",
      "1            0install  <pre>\\n       The first non-option argument to...   \n",
      "2             0launch  <pre>\\n       0launch takes the same options a...   \n",
      "3   0store-secure-add                                                NaN   \n",
      "4              0store  <pre>\\n       <b>-h</b>, <b>--help</b>\\n      ...   \n",
      "..                ...                                                ...   \n",
      "70            aa-exec                                     <b>aa-exec</b>   \n",
      "71                 aa  <pre>\\n       <b>aa</b> does not accept any op...   \n",
      "72               aa3d  <pre>\\n       <b>-w</b> width\\n              T...   \n",
      "73            aac-enc          <pre>\\n       See program binary.\\n</pre>   \n",
      "74             aafire                                                NaN   \n",
      "\n",
      "                                                flags  \n",
      "0                                                  []  \n",
      "1   [-c, --console, --dry-run, -h, --help, -o, --o...  \n",
      "2                                                  []  \n",
      "3                                                  []  \n",
      "4          [-h, --help, -v, --verbose, -V, --version]  \n",
      "..                                                ...  \n",
      "70                                                 []  \n",
      "71                                                 []  \n",
      "72                           [-w, -s, -t, -r, -f, -d]  \n",
      "73                                                 []  \n",
      "74                                                 []  \n",
      "\n",
      "[75 rows x 3 columns]\n"
     ]
    }
   ],
   "source": [
    "mp_df = pd.read_pickle('manpages-db-clean.pkl')\n",
    "mp_df = mp_df.head(75)\n",
    "for i in range(len(mp_df['command'])):\n",
    "    mp_df['command'][i] = mp_df['command'][i].lower()\n",
    "print(mp_df)"
   ]
  },
  {
   "cell_type": "code",
   "execution_count": 3,
   "id": "f194173e",
   "metadata": {},
   "outputs": [],
   "source": [
    "def string_to_list(word):\n",
    "    return [char for char in word]"
   ]
  },
  {
   "cell_type": "code",
   "execution_count": 4,
   "id": "590a5a86",
   "metadata": {},
   "outputs": [],
   "source": [
    "def list_to_string(in_list):\n",
    "    word = ''\n",
    "    for char in in_list:\n",
    "        word = word+(char)\n",
    "    return word"
   ]
  },
  {
   "cell_type": "code",
   "execution_count": 5,
   "id": "41187316",
   "metadata": {},
   "outputs": [],
   "source": [
    "def get_nearby_keys(key):\n",
    "    nearby_keys = {\n",
    "        'q': ['w', 'a', 's'],\n",
    "        'w': ['q', 'e', 'a', 's'],\n",
    "        'e': ['w', 'r', 's', 'd'],\n",
    "        'r': ['e', 't', 'd', 'f'],\n",
    "        't': ['r', 'y', 'f', 'g'],\n",
    "        'y': ['t', 'u', 'g', 'h'],\n",
    "        'u': ['y', 'i', 'h', 'j'],\n",
    "        'i': ['u', 'o', 'j', 'k'],\n",
    "        'o': ['i', 'p', 'k', 'l'],\n",
    "        'p': ['o', 'l'],\n",
    "        'a': ['q', 'w', 's', 'z'],\n",
    "        's': ['w', 'e', 'd', 'x', 'z', 'a'],\n",
    "        'd': ['s', 'e', 'r', 'f', 'c', 'x'],\n",
    "        'f': ['r', 't', 'g', 'v', 'c', 'd'],\n",
    "        'g': ['t', 'y', 'h', 'b', 'v', 'f'],\n",
    "        'h': ['y', 'u', 'j', 'n', 'b', 'g'],\n",
    "        'j': ['u', 'i', 'k', 'm', 'n', 'h'],\n",
    "        'k': ['i', 'o', 'l', 'm', 'j'],\n",
    "        'l': ['k', 'o', 'p'],\n",
    "        'z': ['a', 's', 'x'],\n",
    "        'x': ['z', 's', 'd', 'c'],\n",
    "        'c': ['x', 'd', 'f', 'v'],\n",
    "        'v': ['c', 'f', 'g', 'b'],\n",
    "        'b': ['v', 'g', 'h', 'n'],\n",
    "        'n': ['b', 'h', 'j', 'm'],\n",
    "        'm': ['n', 'j', 'k']\n",
    "    }\n",
    "    if key in nearby_keys.keys():\n",
    "        return nearby_keys[key]\n",
    "    else:\n",
    "        return [key]"
   ]
  },
  {
   "cell_type": "code",
   "execution_count": 6,
   "id": "cb9db518",
   "metadata": {},
   "outputs": [],
   "source": [
    "def char_to_num(in_char):\n",
    "    chars = {\n",
    "        'a': 1, \n",
    "        'b': 2,\n",
    "        'c': 3,\n",
    "        'd': 4,\n",
    "        'e': 5,\n",
    "        'f': 6,\n",
    "        'g': 7,\n",
    "        'h': 8,\n",
    "        'i': 9,\n",
    "        'j': 10,\n",
    "        'k': 11,\n",
    "        'l': 12,\n",
    "        'm': 13,\n",
    "        'n': 14,\n",
    "        'o': 15,\n",
    "        'p': 16,\n",
    "        'q': 17,\n",
    "        'r': 18,\n",
    "        's': 19,\n",
    "        't': 20,\n",
    "        'u': 21,\n",
    "        'v': 22,\n",
    "        'w': 23,\n",
    "        'x': 24,\n",
    "        'y': 25,\n",
    "        'z': 26\n",
    "    }\n",
    "    if in_char in chars:\n",
    "        return chars[in_char]\n",
    "    else:\n",
    "        return 0"
   ]
  },
  {
   "cell_type": "code",
   "execution_count": 7,
   "id": "4bfa7efa",
   "metadata": {},
   "outputs": [],
   "source": [
    "# def swap_letters(word):\n",
    "#     typo_arr = []\n",
    "#     word_as_arr = string_to_list(word)\n",
    "#     for a in range(len(word_as_arr)):\n",
    "#         temp1 = word_as_arr[a]\n",
    "#         nearby_letters1 = get_nearby_keys(temp1)\n",
    "#         for letter in nearby_letters1:\n",
    "#             word_as_arr[a] = letter\n",
    "#             typo_arr.append(list_to_string(word_as_arr))\n",
    "#             for b in range(a+1, len(word_as_arr)):\n",
    "#                     temp2 = word_as_arr[b]\n",
    "#                     nearby_letters2 = get_nearby_keys(temp2)\n",
    "#                     for letter2 in nearby_letters2:\n",
    "#                         word_as_arr[b] = letter2\n",
    "#                         typo_arr.append(list_to_string(word_as_arr))\n",
    "#                         word_as_arr[b] = temp2\n",
    "#             word_as_arr[a] = temp1\n",
    "#     return typo_arr"
   ]
  },
  {
   "cell_type": "code",
   "execution_count": 8,
   "id": "98a2c577",
   "metadata": {},
   "outputs": [],
   "source": [
    "def swap_letters(word):\n",
    "    typo_arr = []\n",
    "    word_as_arr = string_to_list(word)\n",
    "    for a in range(len(word_as_arr)):\n",
    "        temp1 = word_as_arr[a]\n",
    "        mistake_letter1 = random.choice(get_nearby_keys(temp1))\n",
    "        word_as_arr[a] = mistake_letter1\n",
    "        typo_arr.append(list_to_string(word_as_arr))\n",
    "        try:\n",
    "            b = random.choice([*range(a, len(word_as_arr))])\n",
    "            temp2 = word_as_arr[b]\n",
    "            mistake_letter2 = random.choice(get_nearby_keys(temp2))\n",
    "            word_as_arr[b] = mistake_letter2\n",
    "            typo_arr.append(list_to_string(word_as_arr))\n",
    "            word_as_arr[b] = temp2\n",
    "        except:\n",
    "            #do nothing\n",
    "            continue\n",
    "        word_as_arr[a] = temp1\n",
    "    return typo_arr"
   ]
  },
  {
   "cell_type": "code",
   "execution_count": 9,
   "id": "e9fc4154",
   "metadata": {},
   "outputs": [
    {
     "name": "stdout",
     "output_type": "stream",
     "text": [
      "False\n",
      "['fommand', 'tommand', 'cpmmand', 'cpmmajd', 'cokmand', 'cokkand', 'comnand', 'comnahd', 'commwnd', 'commwne', 'commabd', 'commabe', 'commanr', 'commanf']\n"
     ]
    }
   ],
   "source": [
    "x = (swap_letters('command'))\n",
    "duplicates_found = False\n",
    "for i in range(len(x)):\n",
    "    for j in range(i+1, len(x)):\n",
    "        if x[i] == x[j]:\n",
    "            duplicates_found = True\n",
    "            print(\"DUPLICATE:\")\n",
    "            print(str(x[i])+\" at \"+str(i))\n",
    "            print(str(x[j])+\" at \"+str(j))\n",
    "            print()\n",
    "print(duplicates_found)\n",
    "print(x)"
   ]
  },
  {
   "cell_type": "code",
   "execution_count": 10,
   "id": "931032cf",
   "metadata": {},
   "outputs": [
    {
     "name": "stderr",
     "output_type": "stream",
     "text": [
      "100%|███████████████████████████████████████████| 75/75 [00:00<00:00, 93.94it/s]"
     ]
    },
    {
     "name": "stdout",
     "output_type": "stream",
     "text": [
      "75\n"
     ]
    },
    {
     "name": "stderr",
     "output_type": "stream",
     "text": [
      "\n"
     ]
    }
   ],
   "source": [
    "length = len(mp_df['command'])\n",
    "typo_set = [[],[],[]] # col 0 is typo, col 1 is flags, col 2 is correct command\n",
    "\n",
    "def add_typos(original_command, i):\n",
    "    mistyped_commands = swap_letters(original_command)\n",
    "    flags = mp_df['flags'][i]\n",
    "    flags.append('') # add a \"no flags\" option\n",
    "    for j in range(len(mistyped_commands)):\n",
    "        for flag in flags:\n",
    "            typo_set[0].append(mistyped_commands[j])\n",
    "            typo_set[1].append(flag)\n",
    "            typo_set[2].append(original_command)\n",
    "    return typo_set\n",
    "\n",
    "typo_set = Parallel(n_jobs = -1)(delayed(add_typos)(mp_df['command'][i], i) for i in tqdm(range(length)))\n",
    "print(len(typo_set))"
   ]
  },
  {
   "cell_type": "code",
   "execution_count": 11,
   "id": "d3d267c1",
   "metadata": {},
   "outputs": [
    {
     "name": "stderr",
     "output_type": "stream",
     "text": [
      "100%|██████████████████████████████████████████| 75/75 [00:00<00:00, 422.96it/s]"
     ]
    },
    {
     "name": "stdout",
     "output_type": "stream",
     "text": [
      "          typo flag   command\n",
      "0     0desktop       0desktop\n",
      "1     0dewktop       0desktop\n",
      "2     0resktop       0desktop\n",
      "3     0resltop       0desktop\n",
      "4     0dssktop       0desktop\n",
      "...        ...  ...       ...\n",
      "9969    aafjre         aafire\n",
      "9970    aafide         aafire\n",
      "9971    aafidd         aafire\n",
      "9972    aafird         aafire\n",
      "9973    aafirx         aafire\n",
      "\n",
      "[9974 rows x 3 columns]\n"
     ]
    },
    {
     "name": "stderr",
     "output_type": "stream",
     "text": [
      "\n"
     ]
    }
   ],
   "source": [
    "typo_df = pd.DataFrame()\n",
    "for i in tqdm(range(len(typo_set))):\n",
    "    sub_dataframe = pd.DataFrame()\n",
    "    sub_dataframe['typo'] = (typo_set[i][0])\n",
    "    sub_dataframe['flag'] = typo_set[i][1]\n",
    "    sub_dataframe['command'] = typo_set[i][2]\n",
    "    typo_df = typo_df.append(sub_dataframe, ignore_index = True)\n",
    "print(typo_df)"
   ]
  },
  {
   "cell_type": "code",
   "execution_count": 12,
   "id": "85a250fc",
   "metadata": {},
   "outputs": [
    {
     "name": "stdout",
     "output_type": "stream",
     "text": [
      "30\n",
      "a11y-profile-manager-indicator\n"
     ]
    }
   ],
   "source": [
    "def get_longest():\n",
    "    length = 0\n",
    "    longest_entry = ''\n",
    "    for entry in typo_df['command']:\n",
    "        if len(entry) > length:\n",
    "            length = len(entry)\n",
    "            longest_entry = entry\n",
    "    return length, longest_entry\n",
    "    \n",
    "highest_len, longest_entry = get_longest()\n",
    "print(highest_len)\n",
    "print(longest_entry)"
   ]
  },
  {
   "cell_type": "code",
   "execution_count": 13,
   "id": "c15131bb",
   "metadata": {},
   "outputs": [
    {
     "name": "stderr",
     "output_type": "stream",
     "text": [
      "100%|████████████████████████████████████| 9974/9974 [00:00<00:00, 93029.54it/s]\n"
     ]
    }
   ],
   "source": [
    "def encode_typos(in_arr, highest_len):\n",
    "    out_list = []\n",
    "    for i in tqdm(range(len(in_arr))):\n",
    "        s = string_to_list(in_arr[i])\n",
    "        for j in range(len(s)):\n",
    "            s[j] = char_to_num(s[j])\n",
    "        for k in range(highest_len-len(s)):\n",
    "            s.append(0)\n",
    "        out_list.append(s)\n",
    "    return out_list\n",
    "encoded_typos = encode_typos(typo_df['typo'], highest_len)\n",
    "typo_df['encoded_typo'] = encoded_typos"
   ]
  },
  {
   "cell_type": "code",
   "execution_count": 14,
   "id": "6111dcbf",
   "metadata": {},
   "outputs": [],
   "source": [
    "def get_flat_set(in_arr):\n",
    "    out_arr = []\n",
    "    for element in in_arr:\n",
    "        if not(element in out_arr):\n",
    "            out_arr.append(element)\n",
    "    return out_arr\n",
    "\n",
    "def encode_strings(in_arr):\n",
    "    encoded_flags = []\n",
    "    flat_set = get_flat_set(in_arr)\n",
    "    for element in tqdm(in_arr):\n",
    "        encoded_flags.append(flat_set.index(element))\n",
    "    return encoded_flags"
   ]
  },
  {
   "cell_type": "code",
   "execution_count": 15,
   "id": "8f4d1ffc",
   "metadata": {},
   "outputs": [
    {
     "name": "stderr",
     "output_type": "stream",
     "text": [
      "100%|███████████████████████████████████| 9974/9974 [00:00<00:00, 562867.32it/s]\n"
     ]
    }
   ],
   "source": [
    "encoded_flags = encode_strings(typo_df['flag'])\n",
    "typo_df['encoded_flag'] = encoded_flags"
   ]
  },
  {
   "cell_type": "code",
   "execution_count": 16,
   "id": "be98c9ec",
   "metadata": {},
   "outputs": [
    {
     "name": "stderr",
     "output_type": "stream",
     "text": [
      "100%|███████████████████████████████████| 9974/9974 [00:00<00:00, 984352.29it/s]\n"
     ]
    }
   ],
   "source": [
    "encoded_commands = encode_strings(typo_df['command'])\n",
    "typo_df['encoded_command'] = encoded_commands"
   ]
  },
  {
   "cell_type": "code",
   "execution_count": 17,
   "id": "6bbffa6b",
   "metadata": {},
   "outputs": [
    {
     "name": "stderr",
     "output_type": "stream",
     "text": [
      "100%|███████████████████████████████████| 9974/9974 [00:00<00:00, 707300.38it/s]\n"
     ]
    }
   ],
   "source": [
    "combined_input_list = []\n",
    "for x in tqdm(range(len(encoded_flags))):\n",
    "    combined_input_list.append(encoded_typos[x]+[encoded_flags[x]])\n",
    "typo_df['encoded_input'] = combined_input_list"
   ]
  },
  {
   "cell_type": "code",
   "execution_count": 18,
   "id": "b9aa934e",
   "metadata": {},
   "outputs": [
    {
     "name": "stdout",
     "output_type": "stream",
     "text": [
      "74\n"
     ]
    }
   ],
   "source": [
    "num_unique_commands = typo_df['encoded_command'].nunique()\n",
    "print(num_unique_commands)"
   ]
  },
  {
   "cell_type": "code",
   "execution_count": 19,
   "id": "3fe888dd",
   "metadata": {},
   "outputs": [
    {
     "name": "stderr",
     "output_type": "stream",
     "text": [
      "100%|███████████████████████████████████| 9974/9974 [00:00<00:00, 105754.08it/s]\n"
     ]
    }
   ],
   "source": [
    "one_hot_arr = []\n",
    "for c in tqdm(typo_df['encoded_command']):\n",
    "    new_one_hot = [0]*num_unique_commands\n",
    "    new_one_hot[c] = 1\n",
    "    one_hot_arr.append(new_one_hot)\n",
    "typo_df['one_hot_encoded_command'] = one_hot_arr"
   ]
  },
  {
   "cell_type": "code",
   "execution_count": 20,
   "id": "5049da25",
   "metadata": {},
   "outputs": [
    {
     "name": "stdout",
     "output_type": "stream",
     "text": [
      "          typo       flag   command  \\\n",
      "16    0install         -c  0install   \n",
      "17    0install  --console  0install   \n",
      "18    0install  --dry-run  0install   \n",
      "19    0install         -h  0install   \n",
      "20    0install     --help  0install   \n",
      "...        ...        ...       ...   \n",
      "9942      aa3d         -s      aa3d   \n",
      "9943      aa3d         -t      aa3d   \n",
      "9944      aa3d         -r      aa3d   \n",
      "9945      aa3d         -f      aa3d   \n",
      "9946      aa3d         -d      aa3d   \n",
      "\n",
      "                                           encoded_typo  encoded_flag  \\\n",
      "16    [0, 9, 14, 19, 20, 1, 12, 12, 0, 0, 0, 0, 0, 0...             1   \n",
      "17    [0, 9, 14, 19, 20, 1, 12, 12, 0, 0, 0, 0, 0, 0...             2   \n",
      "18    [0, 9, 14, 19, 20, 1, 12, 12, 0, 0, 0, 0, 0, 0...             3   \n",
      "19    [0, 9, 14, 19, 20, 1, 12, 12, 0, 0, 0, 0, 0, 0...             4   \n",
      "20    [0, 9, 14, 19, 20, 1, 12, 12, 0, 0, 0, 0, 0, 0...             5   \n",
      "...                                                 ...           ...   \n",
      "9942  [1, 1, 0, 4, 0, 0, 0, 0, 0, 0, 0, 0, 0, 0, 0, ...            31   \n",
      "9943  [1, 1, 0, 4, 0, 0, 0, 0, 0, 0, 0, 0, 0, 0, 0, ...            64   \n",
      "9944  [1, 1, 0, 4, 0, 0, 0, 0, 0, 0, 0, 0, 0, 0, 0, ...           160   \n",
      "9945  [1, 1, 0, 4, 0, 0, 0, 0, 0, 0, 0, 0, 0, 0, 0, ...            19   \n",
      "9946  [1, 1, 0, 4, 0, 0, 0, 0, 0, 0, 0, 0, 0, 0, 0, ...            73   \n",
      "\n",
      "      encoded_command                                      encoded_input  \\\n",
      "16                  1  [0, 9, 14, 19, 20, 1, 12, 12, 0, 0, 0, 0, 0, 0...   \n",
      "17                  1  [0, 9, 14, 19, 20, 1, 12, 12, 0, 0, 0, 0, 0, 0...   \n",
      "18                  1  [0, 9, 14, 19, 20, 1, 12, 12, 0, 0, 0, 0, 0, 0...   \n",
      "19                  1  [0, 9, 14, 19, 20, 1, 12, 12, 0, 0, 0, 0, 0, 0...   \n",
      "20                  1  [0, 9, 14, 19, 20, 1, 12, 12, 0, 0, 0, 0, 0, 0...   \n",
      "...               ...                                                ...   \n",
      "9942               71  [1, 1, 0, 4, 0, 0, 0, 0, 0, 0, 0, 0, 0, 0, 0, ...   \n",
      "9943               71  [1, 1, 0, 4, 0, 0, 0, 0, 0, 0, 0, 0, 0, 0, 0, ...   \n",
      "9944               71  [1, 1, 0, 4, 0, 0, 0, 0, 0, 0, 0, 0, 0, 0, 0, ...   \n",
      "9945               71  [1, 1, 0, 4, 0, 0, 0, 0, 0, 0, 0, 0, 0, 0, 0, ...   \n",
      "9946               71  [1, 1, 0, 4, 0, 0, 0, 0, 0, 0, 0, 0, 0, 0, 0, ...   \n",
      "\n",
      "                                one_hot_encoded_command  \n",
      "16    [0, 1, 0, 0, 0, 0, 0, 0, 0, 0, 0, 0, 0, 0, 0, ...  \n",
      "17    [0, 1, 0, 0, 0, 0, 0, 0, 0, 0, 0, 0, 0, 0, 0, ...  \n",
      "18    [0, 1, 0, 0, 0, 0, 0, 0, 0, 0, 0, 0, 0, 0, 0, ...  \n",
      "19    [0, 1, 0, 0, 0, 0, 0, 0, 0, 0, 0, 0, 0, 0, 0, ...  \n",
      "20    [0, 1, 0, 0, 0, 0, 0, 0, 0, 0, 0, 0, 0, 0, 0, ...  \n",
      "...                                                 ...  \n",
      "9942  [0, 0, 0, 0, 0, 0, 0, 0, 0, 0, 0, 0, 0, 0, 0, ...  \n",
      "9943  [0, 0, 0, 0, 0, 0, 0, 0, 0, 0, 0, 0, 0, 0, 0, ...  \n",
      "9944  [0, 0, 0, 0, 0, 0, 0, 0, 0, 0, 0, 0, 0, 0, 0, ...  \n",
      "9945  [0, 0, 0, 0, 0, 0, 0, 0, 0, 0, 0, 0, 0, 0, 0, ...  \n",
      "9946  [0, 0, 0, 0, 0, 0, 0, 0, 0, 0, 0, 0, 0, 0, 0, ...  \n",
      "\n",
      "[8296 rows x 8 columns]\n",
      "0       0\n",
      "1       0\n",
      "2       0\n",
      "3       0\n",
      "4       0\n",
      "       ..\n",
      "9969    0\n",
      "9970    0\n",
      "9971    0\n",
      "9972    0\n",
      "9973    0\n",
      "Name: encoded_flag, Length: 9974, dtype: int64\n"
     ]
    }
   ],
   "source": [
    "print(typo_df[typo_df['flag']!=''])\n",
    "print(typo_df['encoded_flag'])"
   ]
  },
  {
   "cell_type": "code",
   "execution_count": 21,
   "id": "f47faa1d",
   "metadata": {},
   "outputs": [],
   "source": [
    "typo_df.to_pickle('typo_df.pkl')"
   ]
  },
  {
   "cell_type": "code",
   "execution_count": null,
   "id": "90268018",
   "metadata": {},
   "outputs": [],
   "source": []
  }
 ],
 "metadata": {
  "kernelspec": {
   "display_name": "Python [conda env:neural_networks] *",
   "language": "python",
   "name": "conda-env-neural_networks-py"
  },
  "language_info": {
   "codemirror_mode": {
    "name": "ipython",
    "version": 3
   },
   "file_extension": ".py",
   "mimetype": "text/x-python",
   "name": "python",
   "nbconvert_exporter": "python",
   "pygments_lexer": "ipython3",
   "version": "3.8.10"
  }
 },
 "nbformat": 4,
 "nbformat_minor": 5
}
