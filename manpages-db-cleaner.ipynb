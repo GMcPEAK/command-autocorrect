{
 "cells": [
  {
   "cell_type": "code",
   "execution_count": 1,
   "id": "b1a5f0ed",
   "metadata": {},
   "outputs": [],
   "source": [
    "import pandas as pd\n",
    "pd.options.mode.chained_assignment = None  # default='warn'\n",
    "import os\n",
    "import re\n",
    "from tqdm import tqdm\n",
    "from joblib import Parallel, delayed\n",
    "import csv"
   ]
  },
  {
   "cell_type": "code",
   "execution_count": 2,
   "id": "95346508",
   "metadata": {},
   "outputs": [
    {
     "name": "stderr",
     "output_type": "stream",
     "text": [
      "100%|███████████████████████████████████| 36141/36141 [00:10<00:00, 3582.33it/s]\n"
     ]
    }
   ],
   "source": [
    "def clean_mp_df(mp_df):\n",
    "    # Clean dataset\n",
    "    # Remove '.1.html' and '.1p.html' and other extensions from commands\n",
    "    idx = 0\n",
    "    for command in tqdm(mp_df['command']):\n",
    "        if '.html' in command:\n",
    "            clean_command = 'N/A'\n",
    "            if '.1.html' in command:\n",
    "                clean_command = mp_df['command'][idx].split('.1.html')[0] \n",
    "            elif '.1p.html' in command:\n",
    "                clean_command = mp_df['command'][idx].split('.1p.html')[0]\n",
    "            elif '.1posix.html' in command:\n",
    "                clean_command = mp_df['command'][idx].split('.1posix.html')[0]\n",
    "            elif '.1e.html' in command:\n",
    "                clean_command = mp_df['command'][idx].split('.1e.html')[0]\n",
    "            elif '.1sr.html' in command:\n",
    "                clean_command = mp_df['command'][idx].split('.1sr.html')[0]\n",
    "            elif '.1sr.html' in command:\n",
    "                clean_command = mp_df['command'][idx].split('.1x.html')[0]\n",
    "            mp_df['command'][idx] = clean_command\n",
    "        idx+=1\n",
    "    # Remove un-caught extra commands\n",
    "    mp_df = mp_df[mp_df['command']!='N/A']\n",
    "    # Remove duplicate descriptions & commands\n",
    "    mp_df.drop_duplicates(inplace=True, subset='command')\n",
    "    mp_df.drop(['description', 'flags'], axis=1, inplace=True)\n",
    "    mp_df = mp_df.reset_index().drop(columns='index')\n",
    "    return mp_df\n",
    "\n",
    "# generate dataframe of Ubuntu commands/programs for which a man page exists\n",
    "mp_df = clean_mp_df(pd.read_csv('manpages-db.csv')) "
   ]
  },
  {
   "cell_type": "code",
   "execution_count": 3,
   "id": "b06ce433",
   "metadata": {},
   "outputs": [
    {
     "name": "stdout",
     "output_type": "stream",
     "text": [
      "RAW MANPAGES DATAFRAME:\n",
      "                 command                                            options\n",
      "0               0desktop                                                NaN\n",
      "1               0install  <pre>\\n       The first non-option argument to...\n",
      "2                0launch  <pre>\\n       0launch takes the same options a...\n",
      "3      0store-secure-add                                                NaN\n",
      "4                 0store  <pre>\\n       <b>-h</b>, <b>--help</b>\\n      ...\n",
      "...                  ...                                                ...\n",
      "34896               zzuf  <pre>\\n   <b>Generic</b> <b>program</b> <b>inf...\n",
      "34897           zzxorcat  <pre>\\n       <u>zziplib-bin</u> tools accept ...\n",
      "34898          zzxorcopy  <pre>\\n       <u>zziplib-bin</u> tools accept ...\n",
      "34899           zzxordir  <pre>\\n       <u>zziplib-bin</u> tools accept ...\n",
      "34900                %5b                                                NaN\n",
      "\n",
      "[34901 rows x 2 columns]\n"
     ]
    }
   ],
   "source": [
    "#Display raw dataframes\n",
    "print(\"RAW MANPAGES DATAFRAME:\")\n",
    "print(mp_df)"
   ]
  },
  {
   "cell_type": "code",
   "execution_count": 4,
   "id": "c0102bed",
   "metadata": {},
   "outputs": [],
   "source": [
    "def get_bold_segments(in_str):\n",
    "    if pd.isnull(in_str):\n",
    "        return []\n",
    "    segments = []\n",
    "    code_tag_flag = False # becomes true when opening code tag has been found\n",
    "    split_str = re.split('<b>|</b>', in_str)\n",
    "    for i in range(len(split_str)):\n",
    "        if i%2 == 1 and split_str[i][0]=='-':\n",
    "            split_str[i] = split_str[i].replace(',','')\n",
    "            segments.append(split_str[i])\n",
    "    extra_segments = []\n",
    "    for idx in range(len(segments)):\n",
    "        if '=' in segments[idx]:\n",
    "            segments[idx] = segments[idx].split('=')[0]\n",
    "        if '/' in segments[idx]:\n",
    "            temp = segments[idx].split('/')\n",
    "            segments[idx] = temp[0]\n",
    "            for a in range(1, len(temp)):\n",
    "                extra_segments.append(temp[a])\n",
    "    for e in extra_segments:\n",
    "        segments.append(e)\n",
    "    return segments\n",
    "\n",
    "# i = \"<code><p>Star destroyers!</p></code><code>grep -f A B</code> <p>Four score</p> <code>I'm gonna cummm!</code> I am a menace <code>I FCUCKIG LOVE STARR WARSSSS! </code>\"\n",
    "# print(get_code_segments(i))"
   ]
  },
  {
   "cell_type": "code",
   "execution_count": 5,
   "id": "b98dac26",
   "metadata": {},
   "outputs": [],
   "source": [
    "def find_flags(answer):\n",
    "    code_segments = get_code_segments(answer)\n",
    "    for c in mp_df['command']:\n",
    "        # add spaces to avoid accidentally finding 'commands' within other words\n",
    "        for segment in code_segments:\n",
    "            #print(segment.split())\n",
    "            for word in segment.split():\n",
    "                if c == word:\n",
    "                    return c\n",
    "    return 'NOT_FOUND'\n",
    "# i = \"<code><p>Star destroyers!</p></code><code>grep -f A B</code><p>Four score</p> <code>I'm gonna cummm!</code> I am a menace <code>I FCUCKIG LOVE STARR WARSSSS! </code>\"\n",
    "# print(find_command(i))"
   ]
  },
  {
   "cell_type": "code",
   "execution_count": 6,
   "id": "502e93ce",
   "metadata": {},
   "outputs": [],
   "source": [
    "# remove HTML tags from web-scraped questions\n",
    "def remove_html_tags(dfd):\n",
    "    # add 'command' column to data\n",
    "    dfd['command'] = {}\n",
    "    for i in range(len(dfd['question'])):\n",
    "        dfd['command'][i]=(find_command(dfd['answer'][i]))\n",
    "        q_temp = re.sub('<[^>]+>', '', dfd['question'][i])\n",
    "        a_temp = re.sub('<[^>]+>', '', dfd['answer'][i])\n",
    "        dfd['question'][i] = q_temp\n",
    "        dfd['answer'][i] = a_temp\n",
    "    return pd.DataFrame.from_dict(dfd)"
   ]
  },
  {
   "cell_type": "code",
   "execution_count": 7,
   "id": "301f9606",
   "metadata": {},
   "outputs": [
    {
     "name": "stdout",
     "output_type": "stream",
     "text": [
      "                 command                                            options  \\\n",
      "0               0desktop                                                NaN   \n",
      "1               0install  <pre>\\n       The first non-option argument to...   \n",
      "2                0launch  <pre>\\n       0launch takes the same options a...   \n",
      "3      0store-secure-add                                                NaN   \n",
      "4                 0store  <pre>\\n       <b>-h</b>, <b>--help</b>\\n      ...   \n",
      "...                  ...                                                ...   \n",
      "34896               zzuf  <pre>\\n   <b>Generic</b> <b>program</b> <b>inf...   \n",
      "34897           zzxorcat  <pre>\\n       <u>zziplib-bin</u> tools accept ...   \n",
      "34898          zzxorcopy  <pre>\\n       <u>zziplib-bin</u> tools accept ...   \n",
      "34899           zzxordir  <pre>\\n       <u>zziplib-bin</u> tools accept ...   \n",
      "34900                %5b                                                NaN   \n",
      "\n",
      "                                                   flags  \n",
      "0                                                     []  \n",
      "1      [-c, --console, --dry-run, -h, --help, -o, --o...  \n",
      "2                                                     []  \n",
      "3                                                     []  \n",
      "4             [-h, --help, -v, --verbose, -V, --version]  \n",
      "...                                                  ...  \n",
      "34896  [-h, --help, -V, --version, -f, --fuzzing, -O,...  \n",
      "34897                                             [-HEX]  \n",
      "34898                                             [-HEX]  \n",
      "34899                                             [-HEX]  \n",
      "34900                                                 []  \n",
      "\n",
      "[34901 rows x 3 columns]\n"
     ]
    }
   ],
   "source": [
    "mp_df['flags'] = [None]*len(mp_df['options'])\n",
    "for idx in range(len(mp_df['options'])):\n",
    "    mp_df['flags'][idx] = get_bold_segments(mp_df['options'][idx])\n",
    "print(mp_df)"
   ]
  },
  {
   "cell_type": "code",
   "execution_count": 8,
   "id": "1f490fca",
   "metadata": {},
   "outputs": [],
   "source": [
    "mp_df.to_pickle('manpages-db-clean.pkl')"
   ]
  },
  {
   "cell_type": "code",
   "execution_count": null,
   "id": "1957761b",
   "metadata": {},
   "outputs": [],
   "source": []
  }
 ],
 "metadata": {
  "kernelspec": {
   "display_name": "Python [conda env:machine-learning]",
   "language": "python",
   "name": "conda-env-machine-learning-py"
  },
  "language_info": {
   "codemirror_mode": {
    "name": "ipython",
    "version": 3
   },
   "file_extension": ".py",
   "mimetype": "text/x-python",
   "name": "python",
   "nbconvert_exporter": "python",
   "pygments_lexer": "ipython3",
   "version": "3.8.10"
  }
 },
 "nbformat": 4,
 "nbformat_minor": 5
}
